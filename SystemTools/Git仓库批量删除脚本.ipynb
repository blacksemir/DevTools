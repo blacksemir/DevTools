{
 "cells": [
  {
   "cell_type": "code",
   "execution_count": null,
   "id": "4731e3f6",
   "metadata": {},
   "outputs": [],
   "source": [
    "import configparser\n",
    "import requests\n",
    "\n",
    "def load_config(file_path):\n",
    "    config = configparser.ConfigParser()\n",
    "    config.read(file_path)\n",
    "    return config\n",
    "\n",
    "def get_fork_repositories(repos):\n",
    "    fork_repos = []\n",
    "    for repo in repos:\n",
    "        if repo['fork']:\n",
    "            fork_repos.append({'name': repo['name'], 'description': repo['description']})\n",
    "    return fork_repos\n",
    "\n",
    "def delete_repository(username, repo_name, token):\n",
    "    url = f\"https://api.github.com/repos/{username}/{repo_name}\"\n",
    "    headers = {'Authorization': f'token {token}'}\n",
    "    response = requests.delete(url, headers=headers)\n",
    "    if response.status_code == 204:\n",
    "        print(f\"Successfully deleted {repo_name}\")\n",
    "    else:\n",
    "        print(f\"Failed to delete {repo_name}. Status Code: {response.status_code}\")"
   ]
  },
  {
   "cell_type": "code",
   "execution_count": null,
   "id": "cf518eac",
   "metadata": {},
   "outputs": [],
   "source": [
    "# 替换成配置文件的路径\n",
    "config_file_path = 'D:\\PersonalProject\\DevTools\\pwdconfig.ini'\n",
    "config = load_config(config_file_path)\n",
    "\n",
    "# 从配置文件获取GitHub令牌\n",
    "token = config['GitHub']['token']\n",
    "# 替换成你的GitHub用户名和个人访问令牌\n",
    "username = config['GitHub']['username']"
   ]
  },
  {
   "cell_type": "code",
   "execution_count": null,
   "id": "bfbaa9e0",
   "metadata": {},
   "outputs": [],
   "source": [
    "# 获取所有仓库的列表\n",
    "# 获取仓库列表\n",
    "url = f\"https://api.github.com/users/{username}/repos\"\n",
    "headers = {'Authorization': f'token {token}'}\n",
    "response = requests.get(url, headers=headers)\n",
    "repos = response.json()"
   ]
  },
  {
   "cell_type": "code",
   "execution_count": null,
   "id": "91036baa",
   "metadata": {},
   "outputs": [],
   "source": [
    "if response.status_code == 200:\n",
    "        # 获取Fork的仓库列表和描述\n",
    "        fork_repos = get_fork_repositories(repos)\n",
    "        \n",
    "        # 显示Fork的仓库及其描述\n",
    "        print(\"Forked repositories:\")\n",
    "        for repo in fork_repos:\n",
    "            print(f\"Name: {repo['name']}, Description: {repo['description']}\")"
   ]
  },
  {
   "cell_type": "code",
   "execution_count": null,
   "id": "52a8f389",
   "metadata": {},
   "outputs": [],
   "source": [
    "# 让用户选择要删除的仓库\n",
    "repos_to_delete = ['setup-ipsec-vpn']\n",
    "\n",
    "# 删除仓库\n",
    "for repo_name in repos_to_delete:\n",
    "    delete_repository(username, repo_name, token)"
   ]
  },
  {
   "cell_type": "code",
   "execution_count": null,
   "id": "2a8edf51",
   "metadata": {},
   "outputs": [],
   "source": []
  }
 ],
 "metadata": {
  "kernelspec": {
   "display_name": "Python 3 (ipykernel)",
   "language": "python",
   "name": "python3"
  },
  "language_info": {
   "codemirror_mode": {
    "name": "ipython",
    "version": 3
   },
   "file_extension": ".py",
   "mimetype": "text/x-python",
   "name": "python",
   "nbconvert_exporter": "python",
   "pygments_lexer": "ipython3",
   "version": "3.11.5"
  }
 },
 "nbformat": 4,
 "nbformat_minor": 5
}
